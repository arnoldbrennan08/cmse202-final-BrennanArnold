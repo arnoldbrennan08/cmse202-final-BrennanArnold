{
 "cells": [
  {
   "cell_type": "markdown",
   "metadata": {},
   "source": [
    "# CMSE 202 Final (Section 002 - Fall 2019)\n",
    "\n",
    "<img src=\"https://imgs.xkcd.com/comics/extrapolating.png\" width=400px>\n",
    "\n",
    "The goal of this exam is to give you the opportunity to test out some of the skills that you've developed this semester. In particular, you'll practice setting up a GitHub repository, working with a new data set, developing models of that data using Python packages and finally recreating those models using your own programming skills. You should find that you have all of the skills necessary to complete this exam!\n",
    "\n",
    "You are encouraged to look through the entire exam before you get started so that you can appropriately budget your time and understand the broad goals of the exam. Using Anaconda, you should not have to install any packages to do the work.\n",
    "\n",
    "In as much as it is possible, the exam is set up so that even if you get stuck on one part there are opportunities to get points on the other parts, so consider jumping ahead if you feel like you aren't making progress and then come back later if you have time.\n",
    "\n",
    "**Hint**: It is possible you are asked to do something you are not familiar with. That's why you have internet access. Do some smart searches and see what you can find! \n",
    "\n",
    "**Important note about using online resources**: This exam is \"open internet\". That means that you can look up documentation, google how to accomplish certain Python tasks, etc. Being able to effectively use the internet for computational modeling and data science is a very important skill, so we want to make sure you have the opportunity to exercise that skill. **However**: The use of any person-to-person communication software is absolutely not acceptable. If you are seen accessing your email, using a chat program (e.g. Slack), or any sort of collaborative cloud storage or document software (e.g. Google Documents), you will be at risk for receiving a zero on the exam.\n",
    "\n",
    "**Keep your eyes on your screen!** Unfortunately, there isn't enough space in the room for everyone to sit at their own table so please do your best to keep your eyes on your own screen. This exam is designed to give *you* the opportunity to show the instructor what you can do and you should hold yourself accountable for maintaining a high level of academic integrity. If any of the instructors observe suspicious behavior, you will, again, risk receiving a zero."
   ]
  },
  {
   "cell_type": "markdown",
   "metadata": {},
   "source": [
    "---\n",
    "## Part 1: Setting up a repository for tracking changes (15 points)\n",
    "\n",
    "Before you get too far along in the assignment, you need to set up a **private** GitHub repository that you will store this notebook in and track the changes as you make them. For this section you should:\n",
    "\n",
    "1. Set up a new **private** Git repository on GitHub called \"cmse202-final-< YourName >\" where < YourName > is replaced with, you guessed it, your name.\n",
    "2. Clone the repository onto your computer.\n",
    "3. Move this notebook into that repository and then add it and commit it to the repository and push the changes to the remote repository (**Suggestion**: You may want save and close this notebook before you move to the repository and then reopen it after you move it to make sure that you're working with the right copy of the notebook.)\n",
    "4. Add your TA as a Collaborator to your respository. As a reminder, your TA's username on GitHub is: **Luis-Polanco**\n",
    "\n",
    "From this point on you will occasionally be asked to save the state of your notebook, commit the changes, and push it to your new repository.\n",
    "\n",
    "**Note**: If you're struggling with getting the Git repository set up, you can always just work on the notebook as is and try to come back and figure out the repository component later. You may lose some points though since you won't have periodic commits as you make progress along the way, but it will be better than not working on the other parts of the exam!"
   ]
  },
  {
   "cell_type": "markdown",
   "metadata": {},
   "source": [
    "## Part 2: Working with Example Data (25 points)\n",
    "\n",
    "Abalone are a class of marine snails that create a shell of \"nacre\" of increasing thickness over the course of their lifetime. A very good indication of the age of a particular abalone is the number of \"rings\" of nacre that have been deposited in the creation of the shell. We are going to look at a data set that is used to estimate the number of rings of a particular abalone shell based on various other abalone characteristics.\n",
    "\n",
    "In the D2L directory where this notebook can be found are two files. The first is `Dataset.data` which contains 4177 individual abalone measurements. The second is `Dataset.spec` which contains the labels for the 9 columns. Note a couple of things:\n",
    "* The values in the data file are *space separated*. You can figure out how to load this data using pandas or any other tool\n",
    "* The first column is categorical (non-numeric) data. You can ignore it going forward.\n",
    "* The final column, the count of `rings`, is the dependent variable\n",
    "\n",
    "\n"
   ]
  },
  {
   "cell_type": "code",
   "execution_count": 106,
   "metadata": {},
   "outputs": [],
   "source": [
    "# import functions\n",
    "import numpy as np\n",
    "import matplotlib.pyplot as plt\n",
    "%matplotlib inline\n",
    "import pandas as pd\n",
    "import seaborn as sns"
   ]
  },
  {
   "cell_type": "markdown",
   "metadata": {},
   "source": [
    "### Part 2.1  (13 points)\n",
    "\n",
    "Load the data from the data file and provide the following concerning the `rings` data of the samples:\n",
    "* the max\n",
    "* the min\n",
    "* the mean\n",
    "* the median\n",
    "* a histogram (using any tool you like) of the distribution of `rings` values"
   ]
  },
  {
   "cell_type": "code",
   "execution_count": 107,
   "metadata": {},
   "outputs": [],
   "source": [
    "## your code here\n",
    "data=pd.read_csv('Dataset.data',delimiter=' ')\n",
    "data=data[1:]\n",
    "rings=data['15'] #mask the ring column and give it a proper variable name\n",
    "rings=rings.values.tolist() #convert the values in the dataframe to a list for processing\n"
   ]
  },
  {
   "cell_type": "code",
   "execution_count": 108,
   "metadata": {},
   "outputs": [
    {
     "name": "stdout",
     "output_type": "stream",
     "text": [
      "The max is 29 the min is 1 the mean is 9.933173652694611 the median is 9.0\n"
     ]
    }
   ],
   "source": [
    "mean=np.mean(rings) # statistical calculations using numpy\n",
    "maxi=np.max(rings)\n",
    "mini=np.min(rings)\n",
    "median=np.median(rings)\n",
    "print('The max is',maxi,'the min is',mini,'the mean is',mean,'the median is',median)"
   ]
  },
  {
   "cell_type": "code",
   "execution_count": 109,
   "metadata": {},
   "outputs": [
    {
     "data": {
      "text/plain": [
       "Text(0.5, 1.0, 'No. of rings vs Frequency')"
      ]
     },
     "execution_count": 109,
     "metadata": {},
     "output_type": "execute_result"
    },
    {
     "data": {
      "image/png": "[encoded data removed]",
      "text/plain": [
       "<Figure size 432x288 with 1 Axes>"
      ]
     },
     "metadata": {
      "needs_background": "light"
     },
     "output_type": "display_data"
    }
   ],
   "source": [
    "plt.hist(rings) #plots a histogram of our Rings dataset where x is the number of rings and y is the number of occurrences\n",
    "\n",
    "plt.ylabel('Frequency')\n",
    "\n",
    "plt.xlabel('No. of rings')\n",
    "\n",
    "plt.title('No. of rings vs Frequency')"
   ]
  },
  {
   "cell_type": "markdown",
   "metadata": {},
   "source": [
    "### Part 2.2 (12 points)\n",
    "\n",
    "Let's make a correlation matrix of the variables in the abalone dataset and plot it as a heat map"
   ]
  },
  {
   "cell_type": "code",
   "execution_count": 110,
   "metadata": {},
   "outputs": [],
   "source": [
    "data\n",
    "data=data.drop(['M'],axis=1) #get rid of the sex column"
   ]
  },
  {
   "cell_type": "code",
   "execution_count": 111,
   "metadata": {},
   "outputs": [
    {
     "data": {
      "text/plain": [
       "<matplotlib.axes._subplots.AxesSubplot at 0x17271466940>"
      ]
     },
     "execution_count": 111,
     "metadata": {},
     "output_type": "execute_result"
    },
    {
     "data": {
      "image/png": "[encoded data removed]",
      "text/plain": [
       "<Figure size 432x288 with 2 Axes>"
      ]
     },
     "metadata": {
      "needs_background": "light"
     },
     "output_type": "display_data"
    }
   ],
   "source": [
    "correlation_matrix=data.corr() #develops a correlation coefficient matrix from our dataframe\n",
    "\n",
    "sns.heatmap(correlation_matrix,xticklabels=data.columns) #using seaborn to create a heatmap of our corr.coeff. values\n",
    " "
   ]
  },
  {
   "cell_type": "markdown",
   "metadata": {},
   "source": [
    "<img src=\"https://3.bp.blogspot.com/-i-4_PJncM9Y/UPKZWigjWtI/AAAAAAAAAGw/RcMBVqvETeE/s1600/yellow_star-1331px.png\" align=\"left\" width=35px> **Time to push your changes to your github repository and then carry on**"
   ]
  },
  {
   "cell_type": "markdown",
   "metadata": {},
   "source": [
    "## Part 3 (25 points)\n",
    "\n",
    "Looking at our heatmap, please select the independent variable that has the best correlation with the dependent variable `rings`. Please **write in the cell below** that variable you will work with below."
   ]
  },
  {
   "cell_type": "markdown",
   "metadata": {},
   "source": [
    "The ring data doesn't seem to correlate that well with anything, however the thing it correlates the best with is the data in the column titled 0.15"
   ]
  },
  {
   "cell_type": "markdown",
   "metadata": {},
   "source": [
    "Having selected an independent variable, let us do a linear regression using your selected variable (lets just call it `x`) and the `rings` variable (let's just call that `y`). While you can do as you wish, I would suggest working with various submodules of `sklearn`\n",
    "\n",
    "### Part 3.1 (13 points)\n",
    "\n",
    "Split the avaiable data into 4 sets: `x_train` and `x_test`, `y_train` and `y_test`. Make the test set 80% of the data and the test set 20%"
   ]
  },
  {
   "cell_type": "code",
   "execution_count": 112,
   "metadata": {},
   "outputs": [],
   "source": [
    "x_variable=data['0.15'] #we want the strongest correlation to be our independent variable\n",
    "\n",
    "x_variable=x_variable.values.tolist() #convert those values into a list"
   ]
  },
  {
   "cell_type": "code",
   "execution_count": 113,
   "metadata": {},
   "outputs": [],
   "source": [
    "#machine learning import functions from sklearn\n",
    "import sklearn\n",
    "import sklearn.model_selection\n",
    "import sklearn.linear_model\n",
    "import sklearn.metrics"
   ]
  },
  {
   "cell_type": "code",
   "execution_count": 114,
   "metadata": {},
   "outputs": [],
   "source": [
    "# Simplifying variable names\n",
    "\n",
    "y=rings\n",
    "\n",
    "x=x_variable"
   ]
  },
  {
   "cell_type": "code",
   "execution_count": 115,
   "metadata": {},
   "outputs": [],
   "source": [
    "#seperate the data into a training and a testing set, where our testing porportion is 20% of the dataset\n",
    "x_train, x_test, y_train, y_test =sklearn.model_selection.train_test_split(x, y, test_size=0.2)"
   ]
  },
  {
   "cell_type": "markdown",
   "metadata": {},
   "source": [
    "Using the `x_train` and `y_train` data, do a linear regression fit and report the slope and intercept values"
   ]
  },
  {
   "cell_type": "code",
   "execution_count": 116,
   "metadata": {},
   "outputs": [],
   "source": [
    "#Here we convert our lists into numpy arrays and then reshape them to be 2 Dimensional so that we can use the sklearn\n",
    "#linear regression model\n",
    "x_train=np.asarray(x_train)\n",
    "\n",
    "y_train=np.asarray(y_train)\n",
    "\n",
    "x_train=x_train.reshape(-1,1)\n",
    "\n",
    "y_train=y_train.reshape(-1,1)\n",
    "\n",
    "x_test=np.asarray(x_test)\n",
    "\n",
    "y_test=np.asarray(y_test)\n",
    "\n",
    "x_test=x_test.reshape(-1,1)\n",
    "\n",
    "y_test=y_test.reshape(-1,1)"
   ]
  },
  {
   "cell_type": "code",
   "execution_count": 117,
   "metadata": {},
   "outputs": [
    {
     "name": "stdout",
     "output_type": "stream",
     "text": [
      "The slope is [[14.26711204]]\n",
      "The intercept is [6.51959199]\n"
     ]
    }
   ],
   "source": [
    "#create the object which is the model\n",
    "\n",
    "reg_model=sklearn.linear_model.LinearRegression()\n",
    "\n",
    "#finding our specific model and giving it a creative name\n",
    "\n",
    "r=reg_model.fit(x_train,y_train)\n",
    "\n",
    "print('The slope is',r.coef_)\n",
    "\n",
    "print('The intercept is',r.intercept_)"
   ]
  },
  {
   "cell_type": "markdown",
   "metadata": {},
   "source": [
    "### Part 3.2 (12 points)\n",
    "\n",
    "- For the `x_test` data, use the linear regression model to create a prediction set, call it `y_predict`. \n",
    "- Using the `y_test` and `y_predict` values, report the `mean squared error` and the $r^{2}$ value (also called the `coefficient of determination`). \n",
    "- Plot the `x_test` and `y_test` data and the linear regression line"
   ]
  },
  {
   "cell_type": "code",
   "execution_count": 118,
   "metadata": {},
   "outputs": [
    {
     "name": "stdout",
     "output_type": "stream",
     "text": [
      "The mean squared error is 6.86533977515572\n",
      "the r-squared score is 0.4168519829387338\n"
     ]
    }
   ],
   "source": [
    "## generate a set of predicted y_values from our data set\n",
    "y_predict=reg_model.predict(x_test)\n",
    "\n",
    "#calculate the mean-squared-error using Sklearn's function for it\n",
    "mse=sklearn.metrics.mean_squared_error(y_test,y_predict)\n",
    "\n",
    "print('The mean squared error is', mse)\n",
    "\n",
    "#same thing with the correlation coefficient\n",
    "r2=sklearn.metrics.r2_score(y_test,y_predict)\n",
    "\n",
    "print('the r-squared score is',r2)"
   ]
  },
  {
   "cell_type": "markdown",
   "metadata": {},
   "source": [
    "<img src=\"https://3.bp.blogspot.com/-i-4_PJncM9Y/UPKZWigjWtI/AAAAAAAAAGw/RcMBVqvETeE/s1600/yellow_star-1331px.png\" align=\"left\" width=35px> **Time to push your changes to your github repository and then carry on**"
   ]
  },
  {
   "cell_type": "markdown",
   "metadata": {},
   "source": [
    "## Part 4 Doing it yourself (35 points)\n",
    "\n",
    "\n",
    "### Part 4.1, Least Squares yourself (20 points)\n",
    "Let's do some of that work ourselves to see if we can reproduce those results. We are going do the math for linear regression ourselves and see if our math agrees with the tools we used above. Below is the math. We'll use the same independent variable you chose above and the same training and testing sets.\n",
    "\n",
    "Let's assume that the symbols $\\bar{x}$ and $\\bar{y}$ represent the means of those arrays and that `n` is the number of elements.\n",
    "\n",
    "Here's the calculation for the slope\n",
    "$$ slope = \\frac {\\sum_{i=1}^{n}{(x_i - \\bar{x}) * (y_i - \\bar{y}) } } {\\sum_{i=1}^{n}{(x_i - \\bar{x})^2}}$$\n",
    "\n",
    "Here's the calculation for the intercept\n",
    "$$ intercept = \\bar{y} - slope*\\bar{x} $$\n"
   ]
  },
  {
   "cell_type": "markdown",
   "metadata": {},
   "source": [
    "Using the same independent variable and the same `x_train` and `y_train` as above, calculate the slope and intercept of the best fit least squares using the formula provided. Print:\n",
    "- the slope\n",
    "- the intercept\n",
    "- plot the same `x_test`,`y_test` data you used above and plot the new regression line through that data using your **calculated slope and intercept**"
   ]
  },
  {
   "cell_type": "code",
   "execution_count": 145,
   "metadata": {},
   "outputs": [],
   "source": [
    "## data processing for generating model, intercept, and the slope\n",
    "x_mean=np.mean(x_train)\n",
    "\n",
    "y_mean=np.mean(y_train)\n",
    "\n",
    "numerator = np.sum(((x_train-x_mean)*(y_train-y_mean)))\n",
    "\n",
    "denominator=np.sum(((x_train-x_mean)**2))\n",
    "\n",
    "slope= numerator/denominator\n",
    "\n",
    "intercept= y_mean - slope*x_mean"
   ]
  },
  {
   "cell_type": "code",
   "execution_count": 152,
   "metadata": {},
   "outputs": [
    {
     "data": {
      "text/plain": [
       "[<matplotlib.lines.Line2D at 0x1720a62f470>]"
      ]
     },
     "execution_count": 152,
     "metadata": {},
     "output_type": "execute_result"
    },
    {
     "data": {
      "image/png": "[encoded data removed]",
      "text/plain": [
       "<Figure size 432x288 with 1 Axes>"
      ]
     },
     "metadata": {
      "needs_background": "light"
     },
     "output_type": "display_data"
    }
   ],
   "source": [
    "\n",
    "def line (slope,intercept,x_train):\n",
    "    y= slope * x_test + intercept\n",
    "    return y\n",
    "y=line(slope,intercept,x_train)\n",
    "plt.scatter(x_test,y_test)\n",
    "plt.plot(x_test,y,color='r')"
   ]
  },
  {
   "cell_type": "markdown",
   "metadata": {},
   "source": [
    "### Part 4.2, Coefficient of Determination and Mean-Squared Error (15 points)\n",
    "\n",
    "The coefficient of determination calculations are as follows:\n",
    "\n",
    "Total sum of squares is:\n",
    "$$ tsum = \\sum_{i=1}^{n}{(y_i - \\bar{y})^{2}} $$\n",
    "\n",
    "Residual sum of squares is:\n",
    "$$ residual = \\sum_{i=1}^{n}{(y_i - y_{predicted})}^{2} $$\n",
    "\n",
    "Mean-squared error is just $$ MSE = \\frac{1}{n} * residual$$ or $$ MSE = \\frac{1}{n}\\sum_{i=1}^{n}{(y_i - y_{predicted})}^{2} $$\n",
    "\n",
    "The coefficient of determination is:\n",
    "$$ cod = 1 - \\frac{residual}{tsum} $$\n",
    "\n",
    "Using the same `x-test` and `y-test` data you used above, develop a new `y_predict`  based on your **calculated slope and intercept** and provide the coefficient of determination and mean-squared error of your calculated regression model."
   ]
  },
  {
   "cell_type": "code",
   "execution_count": 150,
   "metadata": {},
   "outputs": [
    {
     "name": "stdout",
     "output_type": "stream",
     "text": [
      "the coefficient of determination is -138.81850517695048 The mean-Squared Error is 6.865339775155719\n"
     ]
    },
    {
     "data": {
      "text/plain": [
       "[<matplotlib.lines.Line2D at 0x1720a577da0>]"
      ]
     },
     "execution_count": 150,
     "metadata": {},
     "output_type": "execute_result"
    },
    {
     "data": {
      "image/png": "[encoded data removed]",
      "text/plain": [
       "<Figure size 432x288 with 1 Axes>"
      ]
     },
     "metadata": {
      "needs_background": "light"
     },
     "output_type": "display_data"
    }
   ],
   "source": [
    "## your code here\n",
    "y_predict=line(slope,intercept,x_test)#now lets predict the values from the testing set\n",
    "\n",
    "residual =  np.sum((y_test-y_predict)**2) #calcualtion of the residual\n",
    "\n",
    "tsum=np.sum(y_test-y_mean) #tsum calculation\n",
    "\n",
    "n=len(y_predict) #simplify the number of terms in the set to a single variable 'n'\n",
    "\n",
    "mse= (1/n) * residual #simplify the mse equation after seeing that it contains the residual\n",
    "\n",
    "cod= 1 - residual/tsum #calculation of the coefficient of determination\n",
    "\n",
    "print('the coefficient of determination is',cod,'The mean-Squared Error is',mse)\n",
    "plt.scatter(x_test,y_test)\n",
    "plt.plot(x_test,y_predict,color='g')"
   ]
  },
  {
   "cell_type": "markdown",
   "metadata": {},
   "source": [
    "## You're Finished!\n",
    "\n",
    "<img src=\"https://3.bp.blogspot.com/-i-4_PJncM9Y/UPKZWigjWtI/AAAAAAAAAGw/RcMBVqvETeE/s1600/yellow_star-1331px.png\" align=\"left\" width=35px> Time to push your changes to your github repository when you finish\n",
    "\n",
    "\n",
    "<img src=\"https://3.bp.blogspot.com/-i-4_PJncM9Y/UPKZWigjWtI/AAAAAAAAAGw/RcMBVqvETeE/s1600/yellow_star-1331px.png\" align=\"left\" width=35px> Make sure you also turn in your completed notebook to the D2L assignment labeled `Final`. We will be checking github but grading the notebooks submitted to D2L.\n",
    "\n",
    "Have a Happy Holiday Break\n",
    "\n",
    "<img src=\"http://g33kingout.com/wp-content/uploads/2013/12/star-wars-Christmas-Card-may-your-find-the-droids.jpg\" width=400px>\n"
   ]
  }
 ],
 "metadata": {
  "kernelspec": {
   "display_name": "Python 3",
   "language": "python",
   "name": "python3"
  },
  "language_info": {
   "codemirror_mode": {
    "name": "ipython",
    "version": 3
   },
   "file_extension": ".py",
   "mimetype": "text/x-python",
   "name": "python",
   "nbconvert_exporter": "python",
   "pygments_lexer": "ipython3",
   "version": "3.7.1"
  }
 },
 "nbformat": 4,
 "nbformat_minor": 2
}
